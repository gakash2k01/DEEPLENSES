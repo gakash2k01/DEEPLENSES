{
 "cells": [
  {
   "cell_type": "code",
   "execution_count": 1,
   "metadata": {},
   "outputs": [],
   "source": [
    "import pandas as pd\n",
    "import os\n",
    "from tqdm import tqdm"
   ]
  },
  {
   "cell_type": "code",
   "execution_count": 2,
   "metadata": {},
   "outputs": [
    {
     "name": "stderr",
     "output_type": "stream",
     "text": [
      "100%|██████████| 10000/10000 [00:00<00:00, 1168981.05it/s]\n",
      "100%|██████████| 10000/10000 [00:00<00:00, 997005.87it/s]\n",
      "100%|██████████| 10000/10000 [00:00<00:00, 1108343.42it/s]\n"
     ]
    }
   ],
   "source": [
    "id = []\n",
    "label = []\n",
    "path = []\n",
    "for i in tqdm(os.listdir('dataset/dataset/train/no')):\n",
    "    id.append(f\"{(i.split('.'))[0]}_no\")\n",
    "    path.append(f'dataset/dataset/train/no/{i}')\n",
    "    label.append('no')\n",
    "for i in tqdm(os.listdir('dataset/dataset/train/sphere')):\n",
    "    id.append(f\"{(i.split('.'))[0]}_sphere\")\n",
    "    path.append(f'dataset/dataset/train/sphere/{i}')\n",
    "    label.append('sphere')\n",
    "for i in tqdm(os.listdir('dataset/dataset/train/vort')):\n",
    "    id.append(f\"{(i.split('.'))[0]}_vort\")\n",
    "    path.append(f'dataset/dataset/train/vort/{i}')\n",
    "    label.append('vort')"
   ]
  },
  {
   "cell_type": "code",
   "execution_count": 3,
   "metadata": {},
   "outputs": [
    {
     "data": {
      "text/html": [
       "<div>\n",
       "<style scoped>\n",
       "    .dataframe tbody tr th:only-of-type {\n",
       "        vertical-align: middle;\n",
       "    }\n",
       "\n",
       "    .dataframe tbody tr th {\n",
       "        vertical-align: top;\n",
       "    }\n",
       "\n",
       "    .dataframe thead th {\n",
       "        text-align: right;\n",
       "    }\n",
       "</style>\n",
       "<table border=\"1\" class=\"dataframe\">\n",
       "  <thead>\n",
       "    <tr style=\"text-align: right;\">\n",
       "      <th></th>\n",
       "      <th>id</th>\n",
       "      <th>path</th>\n",
       "      <th>label</th>\n",
       "    </tr>\n",
       "  </thead>\n",
       "  <tbody>\n",
       "    <tr>\n",
       "      <th>0</th>\n",
       "      <td>1_no</td>\n",
       "      <td>dataset/dataset/train/no/1.npy</td>\n",
       "      <td>no</td>\n",
       "    </tr>\n",
       "    <tr>\n",
       "      <th>1</th>\n",
       "      <td>10_no</td>\n",
       "      <td>dataset/dataset/train/no/10.npy</td>\n",
       "      <td>no</td>\n",
       "    </tr>\n",
       "    <tr>\n",
       "      <th>2</th>\n",
       "      <td>100_no</td>\n",
       "      <td>dataset/dataset/train/no/100.npy</td>\n",
       "      <td>no</td>\n",
       "    </tr>\n",
       "    <tr>\n",
       "      <th>3</th>\n",
       "      <td>1000_no</td>\n",
       "      <td>dataset/dataset/train/no/1000.npy</td>\n",
       "      <td>no</td>\n",
       "    </tr>\n",
       "    <tr>\n",
       "      <th>4</th>\n",
       "      <td>10000_no</td>\n",
       "      <td>dataset/dataset/train/no/10000.npy</td>\n",
       "      <td>no</td>\n",
       "    </tr>\n",
       "  </tbody>\n",
       "</table>\n",
       "</div>"
      ],
      "text/plain": [
       "         id                                path label\n",
       "0      1_no      dataset/dataset/train/no/1.npy    no\n",
       "1     10_no     dataset/dataset/train/no/10.npy    no\n",
       "2    100_no    dataset/dataset/train/no/100.npy    no\n",
       "3   1000_no   dataset/dataset/train/no/1000.npy    no\n",
       "4  10000_no  dataset/dataset/train/no/10000.npy    no"
      ]
     },
     "execution_count": 3,
     "metadata": {},
     "output_type": "execute_result"
    }
   ],
   "source": [
    "data = pd.DataFrame({'id': id, 'path': path, 'label': label})\n",
    "data.head()"
   ]
  },
  {
   "cell_type": "code",
   "execution_count": 4,
   "metadata": {},
   "outputs": [
    {
     "data": {
      "text/plain": [
       "no        10000\n",
       "sphere    10000\n",
       "vort      10000\n",
       "Name: label, dtype: int64"
      ]
     },
     "execution_count": 4,
     "metadata": {},
     "output_type": "execute_result"
    }
   ],
   "source": [
    "data['label'].value_counts()"
   ]
  },
  {
   "cell_type": "code",
   "execution_count": 5,
   "metadata": {},
   "outputs": [],
   "source": [
    "data.to_csv('data.csv', index=False) "
   ]
  },
  {
   "cell_type": "code",
   "execution_count": 6,
   "metadata": {},
   "outputs": [
    {
     "name": "stderr",
     "output_type": "stream",
     "text": [
      "100%|██████████| 2500/2500 [00:00<00:00, 500179.36it/s]\n",
      "100%|██████████| 2500/2500 [00:00<00:00, 1250090.61it/s]\n",
      "100%|██████████| 2500/2500 [00:00<00:00, 843449.16it/s]\n"
     ]
    }
   ],
   "source": [
    "id = []\n",
    "label = []\n",
    "path = []\n",
    "for i in tqdm(os.listdir('dataset/dataset/val/no')):\n",
    "    id.append(f\"{(i.split('.'))[0]}_no\")\n",
    "    path.append(f'dataset/dataset/val/no/{i}')\n",
    "    label.append('no')\n",
    "for i in tqdm(os.listdir('dataset/dataset/val/sphere')):\n",
    "    id.append(f\"{(i.split('.'))[0]}_sphere\")\n",
    "    path.append(f'dataset/dataset/val/sphere/{i}')\n",
    "    label.append('sphere')\n",
    "for i in tqdm(os.listdir('dataset/dataset/val/vort')):\n",
    "    id.append(f\"{(i.split('.'))[0]}_vort\")\n",
    "    path.append(f'dataset/dataset/val/vort/{i}')\n",
    "    label.append('vort')"
   ]
  },
  {
   "cell_type": "code",
   "execution_count": 7,
   "metadata": {},
   "outputs": [
    {
     "data": {
      "text/html": [
       "<div>\n",
       "<style scoped>\n",
       "    .dataframe tbody tr th:only-of-type {\n",
       "        vertical-align: middle;\n",
       "    }\n",
       "\n",
       "    .dataframe tbody tr th {\n",
       "        vertical-align: top;\n",
       "    }\n",
       "\n",
       "    .dataframe thead th {\n",
       "        text-align: right;\n",
       "    }\n",
       "</style>\n",
       "<table border=\"1\" class=\"dataframe\">\n",
       "  <thead>\n",
       "    <tr style=\"text-align: right;\">\n",
       "      <th></th>\n",
       "      <th>id</th>\n",
       "      <th>path</th>\n",
       "      <th>label</th>\n",
       "    </tr>\n",
       "  </thead>\n",
       "  <tbody>\n",
       "    <tr>\n",
       "      <th>0</th>\n",
       "      <td>1_no</td>\n",
       "      <td>dataset/dataset/val/no/1.npy</td>\n",
       "      <td>no</td>\n",
       "    </tr>\n",
       "    <tr>\n",
       "      <th>1</th>\n",
       "      <td>10_no</td>\n",
       "      <td>dataset/dataset/val/no/10.npy</td>\n",
       "      <td>no</td>\n",
       "    </tr>\n",
       "    <tr>\n",
       "      <th>2</th>\n",
       "      <td>100_no</td>\n",
       "      <td>dataset/dataset/val/no/100.npy</td>\n",
       "      <td>no</td>\n",
       "    </tr>\n",
       "    <tr>\n",
       "      <th>3</th>\n",
       "      <td>1000_no</td>\n",
       "      <td>dataset/dataset/val/no/1000.npy</td>\n",
       "      <td>no</td>\n",
       "    </tr>\n",
       "    <tr>\n",
       "      <th>4</th>\n",
       "      <td>1001_no</td>\n",
       "      <td>dataset/dataset/val/no/1001.npy</td>\n",
       "      <td>no</td>\n",
       "    </tr>\n",
       "  </tbody>\n",
       "</table>\n",
       "</div>"
      ],
      "text/plain": [
       "        id                             path label\n",
       "0     1_no     dataset/dataset/val/no/1.npy    no\n",
       "1    10_no    dataset/dataset/val/no/10.npy    no\n",
       "2   100_no   dataset/dataset/val/no/100.npy    no\n",
       "3  1000_no  dataset/dataset/val/no/1000.npy    no\n",
       "4  1001_no  dataset/dataset/val/no/1001.npy    no"
      ]
     },
     "execution_count": 7,
     "metadata": {},
     "output_type": "execute_result"
    }
   ],
   "source": [
    "data = pd.DataFrame({'id': id, 'path': path, 'label': label})\n",
    "data.head()"
   ]
  },
  {
   "cell_type": "code",
   "execution_count": 8,
   "metadata": {},
   "outputs": [
    {
     "data": {
      "text/plain": [
       "no        2500\n",
       "sphere    2500\n",
       "vort      2500\n",
       "Name: label, dtype: int64"
      ]
     },
     "execution_count": 8,
     "metadata": {},
     "output_type": "execute_result"
    }
   ],
   "source": [
    "data['label'].value_counts()"
   ]
  },
  {
   "cell_type": "code",
   "execution_count": 9,
   "metadata": {},
   "outputs": [],
   "source": [
    "data.to_csv('val_data.csv', index=False) "
   ]
  }
 ],
 "metadata": {
  "kernelspec": {
   "display_name": "deeplense",
   "language": "python",
   "name": "python3"
  },
  "language_info": {
   "codemirror_mode": {
    "name": "ipython",
    "version": 3
   },
   "file_extension": ".py",
   "mimetype": "text/x-python",
   "name": "python",
   "nbconvert_exporter": "python",
   "pygments_lexer": "ipython3",
   "version": "3.9.16"
  },
  "orig_nbformat": 4
 },
 "nbformat": 4,
 "nbformat_minor": 2
}
