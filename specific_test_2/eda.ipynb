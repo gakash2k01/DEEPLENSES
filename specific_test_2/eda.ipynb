{
 "cells": [
  {
   "attachments": {},
   "cell_type": "markdown",
   "metadata": {},
   "source": [
    "# Imports"
   ]
  },
  {
   "cell_type": "code",
   "execution_count": 1,
   "metadata": {},
   "outputs": [],
   "source": [
    "# Importing required modules\n",
    "import warnings\n",
    "import cv2\n",
    "import seaborn as sns\n",
    "from tqdm import tqdm\n",
    "import pandas as pd\n",
    "import numpy as np\n",
    "import os\n",
    "from random import *\n",
    "from tqdm import tqdm\n",
    "from astropy.io import fits\n",
    "warnings.filterwarnings('ignore')"
   ]
  },
  {
   "attachments": {},
   "cell_type": "markdown",
   "metadata": {},
   "source": [
    "# EDA"
   ]
  },
  {
   "attachments": {},
   "cell_type": "markdown",
   "metadata": {},
   "source": [
    "### Class count"
   ]
  },
  {
   "cell_type": "code",
   "execution_count": 2,
   "metadata": {},
   "outputs": [
    {
     "data": {
      "text/html": [
       "<div>\n",
       "<style scoped>\n",
       "    .dataframe tbody tr th:only-of-type {\n",
       "        vertical-align: middle;\n",
       "    }\n",
       "\n",
       "    .dataframe tbody tr th {\n",
       "        vertical-align: top;\n",
       "    }\n",
       "\n",
       "    .dataframe thead th {\n",
       "        text-align: right;\n",
       "    }\n",
       "</style>\n",
       "<table border=\"1\" class=\"dataframe\">\n",
       "  <thead>\n",
       "    <tr style=\"text-align: right;\">\n",
       "      <th></th>\n",
       "      <th>ID</th>\n",
       "      <th>is_lens</th>\n",
       "      <th>Einstein_area</th>\n",
       "      <th>numb_pix_lensed_image</th>\n",
       "      <th>flux_lensed_image_in_sigma</th>\n",
       "    </tr>\n",
       "  </thead>\n",
       "  <tbody>\n",
       "    <tr>\n",
       "      <th>0</th>\n",
       "      <td>100000</td>\n",
       "      <td>1</td>\n",
       "      <td>8.633760e-10</td>\n",
       "      <td>171</td>\n",
       "      <td>195.429</td>\n",
       "    </tr>\n",
       "    <tr>\n",
       "      <th>1</th>\n",
       "      <td>100001</td>\n",
       "      <td>1</td>\n",
       "      <td>1.317890e-10</td>\n",
       "      <td>294</td>\n",
       "      <td>855.589</td>\n",
       "    </tr>\n",
       "    <tr>\n",
       "      <th>2</th>\n",
       "      <td>100002</td>\n",
       "      <td>1</td>\n",
       "      <td>4.877250e-12</td>\n",
       "      <td>140</td>\n",
       "      <td>486.113</td>\n",
       "    </tr>\n",
       "    <tr>\n",
       "      <th>3</th>\n",
       "      <td>100003</td>\n",
       "      <td>1</td>\n",
       "      <td>1.440160e-09</td>\n",
       "      <td>1500</td>\n",
       "      <td>10467.400</td>\n",
       "    </tr>\n",
       "    <tr>\n",
       "      <th>4</th>\n",
       "      <td>100004</td>\n",
       "      <td>0</td>\n",
       "      <td>2.197350e-11</td>\n",
       "      <td>0</td>\n",
       "      <td>0.000</td>\n",
       "    </tr>\n",
       "  </tbody>\n",
       "</table>\n",
       "</div>"
      ],
      "text/plain": [
       "       ID  is_lens  Einstein_area  numb_pix_lensed_image  \\\n",
       "0  100000        1   8.633760e-10                    171   \n",
       "1  100001        1   1.317890e-10                    294   \n",
       "2  100002        1   4.877250e-12                    140   \n",
       "3  100003        1   1.440160e-09                   1500   \n",
       "4  100004        0   2.197350e-11                      0   \n",
       "\n",
       "   flux_lensed_image_in_sigma  \n",
       "0                     195.429  \n",
       "1                     855.589  \n",
       "2                     486.113  \n",
       "3                   10467.400  \n",
       "4                       0.000  "
      ]
     },
     "execution_count": 2,
     "metadata": {},
     "output_type": "execute_result"
    }
   ],
   "source": [
    "counts = {}\n",
    "data = pd.read_csv('lens_finding/SpaceBasedTraining/classifications.csv')\n",
    "data.head()"
   ]
  },
  {
   "cell_type": "code",
   "execution_count": 3,
   "metadata": {},
   "outputs": [
    {
     "data": {
      "text/plain": [
       "{1: 12574, 0: 5426}"
      ]
     },
     "execution_count": 3,
     "metadata": {},
     "output_type": "execute_result"
    }
   ],
   "source": [
    "counts = data['is_lens'].value_counts()\n",
    "counts = dict(counts)\n",
    "counts"
   ]
  },
  {
   "cell_type": "code",
   "execution_count": 4,
   "metadata": {},
   "outputs": [
    {
     "data": {
      "text/plain": [
       "2045"
      ]
     },
     "execution_count": 4,
     "metadata": {},
     "output_type": "execute_result"
    }
   ],
   "source": [
    "len(data['numb_pix_lensed_image'].value_counts())"
   ]
  },
  {
   "cell_type": "code",
   "execution_count": 5,
   "metadata": {},
   "outputs": [
    {
     "data": {
      "text/plain": [
       "12214"
      ]
     },
     "execution_count": 5,
     "metadata": {},
     "output_type": "execute_result"
    }
   ],
   "source": [
    "len(data['flux_lensed_image_in_sigma'].value_counts())"
   ]
  },
  {
   "cell_type": "code",
   "execution_count": 6,
   "metadata": {},
   "outputs": [
    {
     "data": {
      "text/plain": [
       "<Axes: >"
      ]
     },
     "execution_count": 6,
     "metadata": {},
     "output_type": "execute_result"
    },
    {
     "data": {
      "image/png": "[encoded data removed]",
      "text/plain": [
       "<Figure size 640x480 with 1 Axes>"
      ]
     },
     "metadata": {},
     "output_type": "display_data"
    }
   ],
   "source": [
    "sns.barplot(x = list(counts.keys()), y = list(counts.values()))"
   ]
  },
  {
   "attachments": {},
   "cell_type": "markdown",
   "metadata": {},
   "source": [
    "The classes are highly imbalanced."
   ]
  },
  {
   "cell_type": "markdown",
   "metadata": {},
   "source": [
    "### Unique sizes"
   ]
  },
  {
   "cell_type": "code",
   "execution_count": 7,
   "metadata": {},
   "outputs": [
    {
     "name": "stderr",
     "output_type": "stream",
     "text": [
      "100%|██████████| 18000/18000 [00:29<00:00, 614.96it/s]"
     ]
    },
    {
     "name": "stdout",
     "output_type": "stream",
     "text": [
      "(101, 101, 3)    18000\n",
      "dtype: int64\n"
     ]
    },
    {
     "name": "stderr",
     "output_type": "stream",
     "text": [
      "\n"
     ]
    }
   ],
   "source": [
    "sizes = []\n",
    "for i in tqdm(os.listdir('lens_finding/SpaceBasedTraining/files')):\n",
    "    # print(i)\n",
    "    hdulist = fits.open(f'lens_finding/SpaceBasedTraining/files/{i}')\n",
    "    data = hdulist[0].data\n",
    "    data = (data - np.min(data)) / (np.max(data) - np.min(data))\n",
    "    data = np.uint8(data * 255)\n",
    "    data = cv2.cvtColor(data, cv2.COLOR_GRAY2BGR)\n",
    "    sizes.append(str(data.shape))\n",
    "sizes = pd.Series(sizes)\n",
    "print(sizes.value_counts())"
   ]
  },
  {
   "attachments": {},
   "cell_type": "markdown",
   "metadata": {},
   "source": [
    "Therefore, all the images are of (101x101) dimension with a single channel."
   ]
  },
  {
   "cell_type": "code",
   "execution_count": 8,
   "metadata": {},
   "outputs": [
    {
     "name": "stdout",
     "output_type": "stream",
     "text": [
      "[2708, 2280, 11113, 6899, 7990, 4200, 837, 2036, 2639, 13803]\n"
     ]
    }
   ],
   "source": [
    "\n",
    "x = [randint(0, 18000-1) for i in range(10)] \n",
    "print(x)"
   ]
  },
  {
   "cell_type": "code",
   "execution_count": 9,
   "metadata": {},
   "outputs": [],
   "source": [
    "cnt = 0\n",
    "data = pd.read_csv('lens_finding/SpaceBasedTraining/classifications.csv')\n",
    "for i in x:\n",
    "    hdulist = fits.open(f\"lens_finding/SpaceBasedTraining/files/imageEUC_VIS-{int(data.iloc[i]['ID'])}.fits\")\n",
    "    data1 = hdulist[0].data\n",
    "    data1 = (data1 - np.min(data1)) / (np.max(data1) - np.min(data1))\n",
    "    data1 = np.uint8(data1 * 255)\n",
    "    data1 = cv2.cvtColor(data1, cv2.COLOR_GRAY2BGR)\n",
    "    cv2.imwrite(f'data_fit/{i}_{data.iloc[i][\"is_lens\"]}.jpg', data1)"
   ]
  },
  {
   "cell_type": "code",
   "execution_count": 10,
   "metadata": {},
   "outputs": [
    {
     "data": {
      "text/plain": [
       "['lens_finding',\n",
       " 'eda.ipynb',\n",
       " 'wandb',\n",
       " 'checkpoint_235.pth.tar',\n",
       " 'checkpoint_237.pth.tar',\n",
       " 'test-deeplenses.ipynb',\n",
       " 'train-notebook.ipynb',\n",
       " 'data_fit']"
      ]
     },
     "execution_count": 10,
     "metadata": {},
     "output_type": "execute_result"
    }
   ],
   "source": [
    "os.listdir('.')"
   ]
  }
 ],
 "metadata": {
  "kernelspec": {
   "display_name": "deeplense",
   "language": "python",
   "name": "python3"
  },
  "language_info": {
   "codemirror_mode": {
    "name": "ipython",
    "version": 3
   },
   "file_extension": ".py",
   "mimetype": "text/x-python",
   "name": "python",
   "nbconvert_exporter": "python",
   "pygments_lexer": "ipython3",
   "version": "3.9.16"
  },
  "orig_nbformat": 4
 },
 "nbformat": 4,
 "nbformat_minor": 2
}
