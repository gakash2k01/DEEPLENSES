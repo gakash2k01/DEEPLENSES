{
 "cells": [
  {
   "cell_type": "code",
   "execution_count": 1,
   "metadata": {},
   "outputs": [],
   "source": [
    "import pandas as pd\n",
    "import os\n",
    "from tqdm import tqdm"
   ]
  },
  {
   "cell_type": "code",
   "execution_count": 3,
   "metadata": {},
   "outputs": [
    {
     "name": "stderr",
     "output_type": "stream",
     "text": [
      "100%|██████████| 5000/5000 [00:00<00:00, 280942.57it/s]\n",
      "100%|██████████| 5000/5000 [00:00<00:00, 743776.42it/s]\n"
     ]
    }
   ],
   "source": [
    "id = []\n",
    "label = []\n",
    "path = []\n",
    "for i in tqdm(os.listdir('dataset/lenses/no_sub')):\n",
    "    id.append(f\"{(i.split('.'))[0]}_no\")\n",
    "    path.append(f'dataset/lenses/no_sub/{i}')\n",
    "    label.append('no_sub')\n",
    "for i in tqdm(os.listdir('dataset/lenses/sub')):\n",
    "    id.append(f\"{(i.split('.'))[0]}_no\")\n",
    "    path.append(f'dataset/lenses/sub/{i}')\n",
    "    label.append('sub')"
   ]
  },
  {
   "cell_type": "code",
   "execution_count": 4,
   "metadata": {},
   "outputs": [
    {
     "data": {
      "text/html": [
       "<div>\n",
       "<style scoped>\n",
       "    .dataframe tbody tr th:only-of-type {\n",
       "        vertical-align: middle;\n",
       "    }\n",
       "\n",
       "    .dataframe tbody tr th {\n",
       "        vertical-align: top;\n",
       "    }\n",
       "\n",
       "    .dataframe thead th {\n",
       "        text-align: right;\n",
       "    }\n",
       "</style>\n",
       "<table border=\"1\" class=\"dataframe\">\n",
       "  <thead>\n",
       "    <tr style=\"text-align: right;\">\n",
       "      <th></th>\n",
       "      <th>id</th>\n",
       "      <th>path</th>\n",
       "      <th>label</th>\n",
       "    </tr>\n",
       "  </thead>\n",
       "  <tbody>\n",
       "    <tr>\n",
       "      <th>0</th>\n",
       "      <td>image_100108096845777232664144315147734473464_no</td>\n",
       "      <td>dataset/lenses/no_sub/image_100108096845777232...</td>\n",
       "      <td>no_sub</td>\n",
       "    </tr>\n",
       "    <tr>\n",
       "      <th>1</th>\n",
       "      <td>image_100227287539121191196450747013226157267_no</td>\n",
       "      <td>dataset/lenses/no_sub/image_100227287539121191...</td>\n",
       "      <td>no_sub</td>\n",
       "    </tr>\n",
       "    <tr>\n",
       "      <th>2</th>\n",
       "      <td>image_100264483508961414728177018733988774270_no</td>\n",
       "      <td>dataset/lenses/no_sub/image_100264483508961414...</td>\n",
       "      <td>no_sub</td>\n",
       "    </tr>\n",
       "    <tr>\n",
       "      <th>3</th>\n",
       "      <td>image_10034692691807247023298096549240614319_no</td>\n",
       "      <td>dataset/lenses/no_sub/image_100346926918072470...</td>\n",
       "      <td>no_sub</td>\n",
       "    </tr>\n",
       "    <tr>\n",
       "      <th>4</th>\n",
       "      <td>image_100547076491942497528774543274237571651_no</td>\n",
       "      <td>dataset/lenses/no_sub/image_100547076491942497...</td>\n",
       "      <td>no_sub</td>\n",
       "    </tr>\n",
       "  </tbody>\n",
       "</table>\n",
       "</div>"
      ],
      "text/plain": [
       "                                                 id  \\\n",
       "0  image_100108096845777232664144315147734473464_no   \n",
       "1  image_100227287539121191196450747013226157267_no   \n",
       "2  image_100264483508961414728177018733988774270_no   \n",
       "3   image_10034692691807247023298096549240614319_no   \n",
       "4  image_100547076491942497528774543274237571651_no   \n",
       "\n",
       "                                                path   label  \n",
       "0  dataset/lenses/no_sub/image_100108096845777232...  no_sub  \n",
       "1  dataset/lenses/no_sub/image_100227287539121191...  no_sub  \n",
       "2  dataset/lenses/no_sub/image_100264483508961414...  no_sub  \n",
       "3  dataset/lenses/no_sub/image_100346926918072470...  no_sub  \n",
       "4  dataset/lenses/no_sub/image_100547076491942497...  no_sub  "
      ]
     },
     "execution_count": 4,
     "metadata": {},
     "output_type": "execute_result"
    }
   ],
   "source": [
    "data = pd.DataFrame({'id': id, 'path': path, 'label': label})\n",
    "data.head()"
   ]
  },
  {
   "cell_type": "code",
   "execution_count": 5,
   "metadata": {},
   "outputs": [
    {
     "data": {
      "text/plain": [
       "no_sub    5000\n",
       "sub       5000\n",
       "Name: label, dtype: int64"
      ]
     },
     "execution_count": 5,
     "metadata": {},
     "output_type": "execute_result"
    }
   ],
   "source": [
    "data['label'].value_counts()"
   ]
  },
  {
   "cell_type": "code",
   "execution_count": 6,
   "metadata": {},
   "outputs": [],
   "source": [
    "data.to_csv('data.csv', index=False) "
   ]
  }
 ],
 "metadata": {
  "kernelspec": {
   "display_name": "deeplense",
   "language": "python",
   "name": "python3"
  },
  "language_info": {
   "codemirror_mode": {
    "name": "ipython",
    "version": 3
   },
   "file_extension": ".py",
   "mimetype": "text/x-python",
   "name": "python",
   "nbconvert_exporter": "python",
   "pygments_lexer": "ipython3",
   "version": "3.10.9"
  },
  "orig_nbformat": 4
 },
 "nbformat": 4,
 "nbformat_minor": 2
}
